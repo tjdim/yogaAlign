{
 "cells": [
  {
   "cell_type": "markdown",
   "metadata": {},
   "source": [
    "# ANALYZE MULTIPLE FRAMES"
   ]
  },
  {
   "cell_type": "code",
   "execution_count": 1,
   "metadata": {},
   "outputs": [],
   "source": [
    "import cv2\n",
    "import numpy as np\n",
    "import csv\n",
    "import time\n",
    "import sys\n",
    "from openpose import *\n",
    "from yoga.joints import *\n",
    "from yoga.instruction import *\n",
    "from yoga.images import *\n",
    "from yoga.openpose_parameter import *\n",
    "from yoga.yoga_pose_joint_parameters import *\n",
    "from yoga.output import *\n",
    "import glob"
   ]
  },
  {
   "cell_type": "code",
   "execution_count": 2,
   "metadata": {},
   "outputs": [],
   "source": [
    "def frame_with_angle_minimal_version(frame):\n",
    "    #Load parameters for openpose\n",
    "    params = get_parameters(net_resolution='-1x368', model_pose='BODY_25')\n",
    "    openpose = OpenPose(params)\n",
    "    main_joints, keypoints_dictionary =  get_main_joint_parameters_BODY25()\n",
    "    if not os.path.exists('output'):\n",
    "        os.makedirs('output')\n",
    "        print('created directory')\n",
    "    original = 'output/original/original_' + str(time.time()) + '.png'\n",
    "    cv2.imwrite(original, frame)\n",
    "    keypoints, output_image = openpose.forward(frame, True)\n",
    "    # output image with keypoints\n",
    "    pic_name = 'output/keypoints/keypoints' + str(time.time()) + '.png'\n",
    "    cv2.imwrite(pic_name, output_image)\n",
    "    real_angles = get_angles_between_ligaments(main_joints , keypoints_dictionary, keypoints, print_output=True)\n",
    "    count = -1\n",
    "    #loop through the main_joint tripels of body, e.g. first triple with keypoints (2-3-4)\n",
    "    for pairs in main_joints:\n",
    "          count += 1\n",
    "          #get the keypoint of middle joint (3)  \n",
    "          middle_joint = pairs[1]\n",
    "          #map each keypoint to corresponding matrix elements\n",
    "          p2 = map_keypoint_index_to_coordinate(keypoints, middle_joint)\n",
    "          #overlay calculated angles over image\n",
    "          if np.isnan(real_angles[count]) == False:\n",
    "            cv2.putText(output_image, \"{}\".format(int(np.round(real_angles[count]))), (int(p2[0]), int(p2[1])), cv2.FONT_HERSHEY_SIMPLEX, 1, (0, 0, 255), 1, lineType=cv2.LINE_AA)\n",
    "    pic_name = 'output/angles/angles' + str(time.time()) + '.png'\n",
    "    cv2.imwrite(pic_name, output_image)\n",
    "    return real_angles"
   ]
  },
  {
   "cell_type": "markdown",
   "metadata": {},
   "source": [
    "### Write Header of csv file"
   ]
  },
  {
   "cell_type": "code",
   "execution_count": 21,
   "metadata": {},
   "outputs": [],
   "source": [
    "header = [[\"a1\", \"a2\", \"a3\", \"a4\", \"a5\", \"a6\"]]\n",
    "file_name_csv = '25September.csv'\n",
    "write_to_csv(file_name_csv, header)"
   ]
  },
  {
   "cell_type": "code",
   "execution_count": 4,
   "metadata": {},
   "outputs": [
    {
     "name": "stdout",
     "output_type": "stream",
     "text": [
      "/home/tanja/Documents/data_science/bitbucket/yogaalign\r\n"
     ]
    }
   ],
   "source": [
    "!pwd"
   ]
  },
  {
   "cell_type": "markdown",
   "metadata": {},
   "source": [
    "Load all images in w2 left directory"
   ]
  },
  {
   "cell_type": "code",
   "execution_count": 20,
   "metadata": {},
   "outputs": [],
   "source": [
    "w2_left = glob.glob('train_data/warrior2_left/*.jpg')\n",
    "all_images = load_images('',w2_left)"
   ]
  },
  {
   "cell_type": "code",
   "execution_count": 23,
   "metadata": {},
   "outputs": [
    {
     "data": {
      "text/plain": [
       "51"
      ]
     },
     "execution_count": 23,
     "metadata": {},
     "output_type": "execute_result"
    }
   ],
   "source": [
    "all_images[0];\n",
    "len(all_images)"
   ]
  },
  {
   "cell_type": "code",
   "execution_count": 22,
   "metadata": {},
   "outputs": [
    {
     "name": "stdout",
     "output_type": "stream",
     "text": [
      "created directory\n",
      "179.32972737495788\n",
      "178.04663716183705\n",
      "108.71539582831777\n",
      "178.52022280769987\n",
      "124.28819060163603\n",
      "95.18016577192049\n",
      "Frame number 0\n",
      "176.7143144782907\n",
      "175.499523148858\n",
      "106.3246532338902\n",
      "179.92347465338594\n",
      "125.3998947349754\n",
      "92.03699571073234\n",
      "Frame number 1\n",
      "177.36444373261648\n",
      "178.43331456109712\n",
      "107.17816985891494\n",
      "179.99691871612487\n",
      "126.16240330348056\n",
      "93.64547032252464\n",
      "Frame number 2\n",
      "179.0009146201542\n",
      "178.53036550471117\n",
      "105.76628965915039\n",
      "178.00412494339977\n",
      "122.45543478672145\n",
      "94.74640929565889\n",
      "Frame number 3\n",
      "178.53203738069536\n",
      "177.14171954471382\n",
      "106.28135258916132\n",
      "177.5606059483786\n",
      "122.56043063025997\n",
      "92.86552489991307\n",
      "Frame number 4\n",
      "177.9510231384396\n",
      "177.30440088742768\n",
      "106.05863168647905\n",
      "178.13702795427298\n",
      "122.57133067470028\n",
      "92.02381362205041\n",
      "Frame number 5\n"
     ]
    },
    {
     "ename": "KeyboardInterrupt",
     "evalue": "",
     "output_type": "error",
     "traceback": [
      "\u001b[0;31m---------------------------------------------------------------------------\u001b[0m",
      "\u001b[0;31mKeyboardInterrupt\u001b[0m                         Traceback (most recent call last)",
      "\u001b[0;32m<ipython-input-22-963979ddf878>\u001b[0m in \u001b[0;36m<module>\u001b[0;34m()\u001b[0m\n\u001b[1;32m      1\u001b[0m \u001b[0;32mfor\u001b[0m \u001b[0mcounter\u001b[0m \u001b[0;32min\u001b[0m \u001b[0mall_images\u001b[0m\u001b[0;34m:\u001b[0m\u001b[0;34m\u001b[0m\u001b[0m\n\u001b[0;32m----> 2\u001b[0;31m     \u001b[0mdata\u001b[0m \u001b[0;34m=\u001b[0m \u001b[0mframe_with_angle_minimal_version\u001b[0m\u001b[0;34m(\u001b[0m\u001b[0mall_images\u001b[0m\u001b[0;34m[\u001b[0m\u001b[0mcounter\u001b[0m\u001b[0;34m]\u001b[0m\u001b[0;34m)\u001b[0m\u001b[0;34m\u001b[0m\u001b[0m\n\u001b[0m\u001b[1;32m      3\u001b[0m     \u001b[0mfile_name_csv\u001b[0m \u001b[0;34m=\u001b[0m \u001b[0;34m'25September.csv'\u001b[0m\u001b[0;34m\u001b[0m\u001b[0m\n\u001b[1;32m      4\u001b[0m     \u001b[0mwrite_to_csv\u001b[0m\u001b[0;34m(\u001b[0m\u001b[0mfile_name_csv\u001b[0m\u001b[0;34m,\u001b[0m \u001b[0mdata\u001b[0m\u001b[0;34m)\u001b[0m\u001b[0;34m\u001b[0m\u001b[0m\n\u001b[1;32m      5\u001b[0m     \u001b[0mprint\u001b[0m\u001b[0;34m(\u001b[0m\u001b[0;34m'Frame number'\u001b[0m\u001b[0;34m,\u001b[0m \u001b[0mcounter\u001b[0m\u001b[0;34m)\u001b[0m\u001b[0;34m\u001b[0m\u001b[0m\n",
      "\u001b[0;32m<ipython-input-18-c27c34687fc4>\u001b[0m in \u001b[0;36mframe_with_angle_minimal_version\u001b[0;34m(frame)\u001b[0m\n\u001b[1;32m      9\u001b[0m     \u001b[0moriginal\u001b[0m \u001b[0;34m=\u001b[0m \u001b[0;34m'output/original_'\u001b[0m \u001b[0;34m+\u001b[0m \u001b[0mstr\u001b[0m\u001b[0;34m(\u001b[0m\u001b[0mtime\u001b[0m\u001b[0;34m.\u001b[0m\u001b[0mtime\u001b[0m\u001b[0;34m(\u001b[0m\u001b[0;34m)\u001b[0m\u001b[0;34m)\u001b[0m \u001b[0;34m+\u001b[0m \u001b[0;34m'.png'\u001b[0m\u001b[0;34m\u001b[0m\u001b[0m\n\u001b[1;32m     10\u001b[0m     \u001b[0mcv2\u001b[0m\u001b[0;34m.\u001b[0m\u001b[0mimwrite\u001b[0m\u001b[0;34m(\u001b[0m\u001b[0moriginal\u001b[0m\u001b[0;34m,\u001b[0m \u001b[0mframe\u001b[0m\u001b[0;34m)\u001b[0m\u001b[0;34m\u001b[0m\u001b[0m\n\u001b[0;32m---> 11\u001b[0;31m     \u001b[0mkeypoints\u001b[0m\u001b[0;34m,\u001b[0m \u001b[0moutput_image\u001b[0m \u001b[0;34m=\u001b[0m \u001b[0mopenpose\u001b[0m\u001b[0;34m.\u001b[0m\u001b[0mforward\u001b[0m\u001b[0;34m(\u001b[0m\u001b[0mframe\u001b[0m\u001b[0;34m,\u001b[0m \u001b[0;32mTrue\u001b[0m\u001b[0;34m)\u001b[0m\u001b[0;34m\u001b[0m\u001b[0m\n\u001b[0m\u001b[1;32m     12\u001b[0m     \u001b[0;31m# output image with keypoints\u001b[0m\u001b[0;34m\u001b[0m\u001b[0;34m\u001b[0m\u001b[0m\n\u001b[1;32m     13\u001b[0m     \u001b[0mpic_name\u001b[0m \u001b[0;34m=\u001b[0m \u001b[0;34m'output/keypoints'\u001b[0m \u001b[0;34m+\u001b[0m \u001b[0mstr\u001b[0m\u001b[0;34m(\u001b[0m\u001b[0mtime\u001b[0m\u001b[0;34m.\u001b[0m\u001b[0mtime\u001b[0m\u001b[0;34m(\u001b[0m\u001b[0;34m)\u001b[0m\u001b[0;34m)\u001b[0m \u001b[0;34m+\u001b[0m \u001b[0;34m'.png'\u001b[0m\u001b[0;34m\u001b[0m\u001b[0m\n",
      "\u001b[0;32m~/Documents/data_science/yogaAlign/openpose/build/python/openpose/openpose.py\u001b[0m in \u001b[0;36mforward\u001b[0;34m(self, image, display)\u001b[0m\n\u001b[1;32m    101\u001b[0m         \u001b[0mdisplayImage\u001b[0m \u001b[0;34m=\u001b[0m \u001b[0mnp\u001b[0m\u001b[0;34m.\u001b[0m\u001b[0mzeros\u001b[0m\u001b[0;34m(\u001b[0m\u001b[0mshape\u001b[0m\u001b[0;34m=\u001b[0m\u001b[0;34m(\u001b[0m\u001b[0mimage\u001b[0m\u001b[0;34m.\u001b[0m\u001b[0mshape\u001b[0m\u001b[0;34m)\u001b[0m\u001b[0;34m,\u001b[0m\u001b[0mdtype\u001b[0m\u001b[0;34m=\u001b[0m\u001b[0mnp\u001b[0m\u001b[0;34m.\u001b[0m\u001b[0muint8\u001b[0m\u001b[0;34m)\u001b[0m\u001b[0;34m\u001b[0m\u001b[0m\n\u001b[1;32m    102\u001b[0m         \u001b[0msize\u001b[0m \u001b[0;34m=\u001b[0m \u001b[0mnp\u001b[0m\u001b[0;34m.\u001b[0m\u001b[0mzeros\u001b[0m\u001b[0;34m(\u001b[0m\u001b[0mshape\u001b[0m\u001b[0;34m=\u001b[0m\u001b[0;34m(\u001b[0m\u001b[0;36m3\u001b[0m\u001b[0;34m)\u001b[0m\u001b[0;34m,\u001b[0m\u001b[0mdtype\u001b[0m\u001b[0;34m=\u001b[0m\u001b[0mnp\u001b[0m\u001b[0;34m.\u001b[0m\u001b[0mint32\u001b[0m\u001b[0;34m)\u001b[0m\u001b[0;34m\u001b[0m\u001b[0m\n\u001b[0;32m--> 103\u001b[0;31m         \u001b[0mself\u001b[0m\u001b[0;34m.\u001b[0m\u001b[0m_libop\u001b[0m\u001b[0;34m.\u001b[0m\u001b[0mforward\u001b[0m\u001b[0;34m(\u001b[0m\u001b[0mself\u001b[0m\u001b[0;34m.\u001b[0m\u001b[0mop\u001b[0m\u001b[0;34m,\u001b[0m \u001b[0mimage\u001b[0m\u001b[0;34m,\u001b[0m \u001b[0mshape\u001b[0m\u001b[0;34m[\u001b[0m\u001b[0;36m0\u001b[0m\u001b[0;34m]\u001b[0m\u001b[0;34m,\u001b[0m \u001b[0mshape\u001b[0m\u001b[0;34m[\u001b[0m\u001b[0;36m1\u001b[0m\u001b[0;34m]\u001b[0m\u001b[0;34m,\u001b[0m \u001b[0msize\u001b[0m\u001b[0;34m,\u001b[0m \u001b[0mdisplayImage\u001b[0m\u001b[0;34m,\u001b[0m \u001b[0mdisplay\u001b[0m\u001b[0;34m)\u001b[0m\u001b[0;34m\u001b[0m\u001b[0m\n\u001b[0m\u001b[1;32m    104\u001b[0m         \u001b[0marray\u001b[0m \u001b[0;34m=\u001b[0m \u001b[0mnp\u001b[0m\u001b[0;34m.\u001b[0m\u001b[0mzeros\u001b[0m\u001b[0;34m(\u001b[0m\u001b[0mshape\u001b[0m\u001b[0;34m=\u001b[0m\u001b[0;34m(\u001b[0m\u001b[0msize\u001b[0m\u001b[0;34m)\u001b[0m\u001b[0;34m,\u001b[0m\u001b[0mdtype\u001b[0m\u001b[0;34m=\u001b[0m\u001b[0mnp\u001b[0m\u001b[0;34m.\u001b[0m\u001b[0mfloat32\u001b[0m\u001b[0;34m)\u001b[0m\u001b[0;34m\u001b[0m\u001b[0m\n\u001b[1;32m    105\u001b[0m         \u001b[0mself\u001b[0m\u001b[0;34m.\u001b[0m\u001b[0m_libop\u001b[0m\u001b[0;34m.\u001b[0m\u001b[0mgetOutputs\u001b[0m\u001b[0;34m(\u001b[0m\u001b[0mself\u001b[0m\u001b[0;34m.\u001b[0m\u001b[0mop\u001b[0m\u001b[0;34m,\u001b[0m \u001b[0marray\u001b[0m\u001b[0;34m)\u001b[0m\u001b[0;34m\u001b[0m\u001b[0m\n",
      "\u001b[0;31mKeyboardInterrupt\u001b[0m: "
     ]
    }
   ],
   "source": [
    "for counter in all_images:\n",
    "    data = frame_with_angle_minimal_version(all_images[counter])\n",
    "    file_name_csv = '25September.csv'\n",
    "    write_to_csv(file_name_csv, data)\n",
    "    print('Frame number', counter)"
   ]
  },
  {
   "cell_type": "code",
   "execution_count": 7,
   "metadata": {},
   "outputs": [
    {
     "data": {
      "text/plain": [
       "{0: 'Nose',\n",
       " 1: 'Neck',\n",
       " 2: 'right Shoulder',\n",
       " 3: 'right Elbow',\n",
       " 4: 'right Wrist',\n",
       " 5: 'Left Shoulder',\n",
       " 6: 'Left Elbow',\n",
       " 7: 'Left Wrist',\n",
       " 8: 'MidHip',\n",
       " 9: 'Right Hip',\n",
       " 10: 'Right Knee',\n",
       " 11: 'Right Ankle',\n",
       " 12: 'Left Hip',\n",
       " 13: 'Left Knee',\n",
       " 14: 'Left Ankle',\n",
       " 15: 'REye',\n",
       " 16: 'LEye',\n",
       " 17: 'REar',\n",
       " 18: 'LEar',\n",
       " 19: 'LBigToe',\n",
       " 20: 'LSmallToe',\n",
       " 21: 'LHeel',\n",
       " 22: 'RBigToe',\n",
       " 23: 'RSmallToe',\n",
       " 24: 'RHeel',\n",
       " 25: 'Background'}"
      ]
     },
     "execution_count": 7,
     "metadata": {},
     "output_type": "execute_result"
    }
   ],
   "source": [
    "main_joints, keypoints_dictionary =  get_main_joint_parameters_BODY25()\n",
    "main_joints\n",
    "keypoints_dictionary"
   ]
  },
  {
   "cell_type": "code",
   "execution_count": 24,
   "metadata": {},
   "outputs": [
    {
     "data": {
      "text/plain": [
       "[[2, 3, 4], [5, 6, 7], [12, 13, 14], [9, 10, 11], [10, 9, 2], [13, 12, 5]]"
      ]
     },
     "execution_count": 24,
     "metadata": {},
     "output_type": "execute_result"
    }
   ],
   "source": [
    "main_joints"
   ]
  },
  {
   "cell_type": "code",
   "execution_count": 9,
   "metadata": {},
   "outputs": [
    {
     "data": {
      "text/plain": [
       "array([[[300.79562   , 133.55714   ,   0.8879291 ],\n",
       "        [285.56558   , 160.14357   ,   0.98362386],\n",
       "        [258.8653    , 160.10371   ,   0.94090503],\n",
       "        [220.96083   , 160.16734   ,   0.91042554],\n",
       "        [175.43094   , 145.02383   ,   0.85013455],\n",
       "        [312.26083   , 160.15813   ,   0.9022354 ],\n",
       "        [350.2806    , 160.12541   ,   0.84144956],\n",
       "        [395.8322    , 152.61931   ,   0.6998802 ],\n",
       "        [281.76437   , 228.67125   ,   0.9387707 ],\n",
       "        [262.7283    , 228.53975   ,   0.9421348 ],\n",
       "        [224.78697   , 258.9056    ,   0.82306004],\n",
       "        [175.4208    , 289.52234   ,   0.8939786 ],\n",
       "        [297.03497   , 232.2817    ,   0.9079386 ],\n",
       "        [350.18436   , 232.51141   ,   0.937258  ],\n",
       "        [350.4228    , 304.5134    ,   0.9585272 ],\n",
       "        [293.24252   , 129.7548    ,   0.90875274],\n",
       "        [  0.        ,   0.        ,   0.        ],\n",
       "        [281.7666    , 133.48732   ,   0.9158148 ],\n",
       "        [  0.        ,   0.        ,   0.        ],\n",
       "        [380.59738   , 312.27344   ,   0.83169425],\n",
       "        [380.66238   , 304.7236    ,   0.81649756],\n",
       "        [346.40735   , 312.14624   ,   0.9559644 ],\n",
       "        [171.51938   , 308.46265   ,   0.7936445 ],\n",
       "        [163.83633   , 297.09137   ,   0.81304854],\n",
       "        [171.61937   , 289.45386   ,   0.8269651 ]]], dtype=float32)"
      ]
     },
     "execution_count": 9,
     "metadata": {},
     "output_type": "execute_result"
    }
   ],
   "source": [
    "#frame_with_angle_minimal_version()\n",
    "    #write_to_csv(file_name_csv, data)\n",
    "params = get_parameters(net_resolution='-1x96', model_pose='BODY_25')\n",
    "openpose = OpenPose(params)\n",
    "keypoints, output_image = openpose.forward(all_images[0], True)\n",
    "keypoints"
   ]
  }
 ],
 "metadata": {
  "kernelspec": {
   "display_name": "Python 3",
   "language": "python",
   "name": "python3"
  },
  "language_info": {
   "codemirror_mode": {
    "name": "ipython",
    "version": 3
   },
   "file_extension": ".py",
   "mimetype": "text/x-python",
   "name": "python",
   "nbconvert_exporter": "python",
   "pygments_lexer": "ipython3",
   "version": "3.6.5"
  }
 },
 "nbformat": 4,
 "nbformat_minor": 2
}
