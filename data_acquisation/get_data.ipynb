{
 "cells": [
  {
   "cell_type": "markdown",
   "metadata": {},
   "source": [
    "# Data Acquisition"
   ]
  },
  {
   "cell_type": "code",
   "execution_count": 1,
   "metadata": {},
   "outputs": [],
   "source": [
    "from pytube import YouTube \n",
    "import os\n",
    "import shutil #to move files around\n",
    "import glob \n",
    "import cv2\n",
    "import imageio  #to read gif files"
   ]
  },
  {
   "cell_type": "markdown",
   "metadata": {},
   "source": [
    "### Directory to store youtube data"
   ]
  },
  {
   "cell_type": "code",
   "execution_count": 2,
   "metadata": {},
   "outputs": [],
   "source": [
    "savedir = 'collected_data'"
   ]
  },
  {
   "cell_type": "code",
   "execution_count": 3,
   "metadata": {},
   "outputs": [
    {
     "name": "stdout",
     "output_type": "stream",
     "text": [
      "get_data.ipynb\tlabel_frames.ipynb\r\n"
     ]
    }
   ],
   "source": [
    "!ls"
   ]
  },
  {
   "cell_type": "markdown",
   "metadata": {},
   "source": [
    "### Get Frames from Youtube "
   ]
  },
  {
   "cell_type": "code",
   "execution_count": 4,
   "metadata": {},
   "outputs": [
    {
     "name": "stdout",
     "output_type": "stream",
     "text": [
      "Built directory  collected_data/youtube_files\n",
      "Download of https://www.youtube.com/watch?v=d2dx7fy6XnY\n",
      "Download of https://www.youtube.com/watch?v=VdIX8auOH_M\n",
      "Download of https://www.youtube.com/watch?v=4Ejz7IgODlU\n",
      "Download of https://www.youtube.com/watch?v=EkqEjfGEqH4\n",
      "Download of https://www.youtube.com/watch?v=-Lj5i6bSCgA\n"
     ]
    }
   ],
   "source": [
    "def downloadYouTube(videourl, path):\n",
    "\n",
    "    yt = YouTube(videourl)\n",
    "    yt = yt.streams.filter(progressive=True,file_extension='mp4').order_by('resolution').desc().first()\n",
    "    if not os.path.exists(path):\n",
    "        os.makedirs(path)\n",
    "        print('Built directory ', path)\n",
    "    yt.download(path)\n",
    "\n",
    "\n",
    "\n",
    "linklist = ['https://www.youtube.com/watch?v=d2dx7fy6XnY', 'https://www.youtube.com/watch?v=VdIX8auOH_M',\n",
    "            'https://www.youtube.com/watch?v=4Ejz7IgODlU', 'https://www.youtube.com/watch?v=EkqEjfGEqH4',\n",
    "           'https://www.youtube.com/watch?v=-Lj5i6bSCgA']\n",
    "\n",
    "for link in linklist:\n",
    "    downloadYouTube(link, os.path.join(savedir, 'youtube_files'))\n",
    "    print('Download of', link)"
   ]
  },
  {
   "cell_type": "code",
   "execution_count": 5,
   "metadata": {},
   "outputs": [
    {
     "name": "stdout",
     "output_type": "stream",
     "text": [
      "collected_data\tget_data.ipynb\tlabel_frames.ipynb\r\n"
     ]
    }
   ],
   "source": [
    "!ls"
   ]
  },
  {
   "cell_type": "markdown",
   "metadata": {},
   "source": [
    "### Get Frames from GIF Files"
   ]
  },
  {
   "cell_type": "code",
   "execution_count": 7,
   "metadata": {},
   "outputs": [],
   "source": [
    "def get_frames_from_gif(gif_path):\n",
    "    #pics/gif_originals/w2.gif'\n",
    "    gif = imageio.mimread(gif_path)\n",
    "    print(\"Total {} frames in the gif!\".format(len(gif)))\n",
    "    #convert from RGB to BGR \n",
    "    imgs = [cv2.cvtColor(img, cv2.COLOR_RGB2BGR) for img in gif]\n",
    "    return imgs"
   ]
  },
  {
   "cell_type": "markdown",
   "metadata": {},
   "source": [
    "### Built new directory and move filelist to  directory to simplify labeling"
   ]
  },
  {
   "cell_type": "code",
   "execution_count": 8,
   "metadata": {},
   "outputs": [],
   "source": [
    "#automated labeling\n",
    "def split_files_to_folder(filelist, dirname):\n",
    "    if not os.path.exists(dirname):\n",
    "        os.makedirs(dirname)\n",
    "        print('Built new dir', dirname)\n",
    "    for filename in filelist:\n",
    "        old_dir = filename\n",
    "        new_dir = os.path.join(dirname, filename)\n",
    "        shutil.move(old_dir, new_dir)"
   ]
  },
  {
   "cell_type": "markdown",
   "metadata": {},
   "source": [
    "### Change to directory where videos are saved"
   ]
  },
  {
   "cell_type": "code",
   "execution_count": 9,
   "metadata": {},
   "outputs": [],
   "source": [
    "os.chdir(os.path.join(savedir, 'youtube_files'))"
   ]
  },
  {
   "cell_type": "code",
   "execution_count": 10,
   "metadata": {},
   "outputs": [
    {
     "name": "stdout",
     "output_type": "stream",
     "text": [
      "'Jessamyn Stanleys 8-Minute Yoga for Self-Love  Health.mp4'\r\n",
      "'Warrior 2 Yoga Pose - Yoga With Adriene.mp4'\r\n",
      "'Warrior II Pose Virabhadrasana II.mp4'\r\n",
      "'YogaVibescom - Kids Yoga Warrior II (Virabhadrasana II) & Warrior III (Virabhadrasana III).mp4'\r\n",
      "'Yoga Warrior Two Sequence.mp4'\r\n"
     ]
    }
   ],
   "source": [
    "!ls "
   ]
  },
  {
   "cell_type": "code",
   "execution_count": 11,
   "metadata": {},
   "outputs": [],
   "source": [
    "import re\n",
    "video_list = glob.glob('*.mp4')\n",
    "for file in video_list:\n",
    "    #strip of file extension .mp4 to built directory\n",
    "    dir_name = os.path.splitext(file)[0]\n",
    "    #remove all weird characters, only leave alphanumeric ones\n",
    "    dirname = re.sub(r'\\W+', '', dir_name)\n",
    "    if not os.path.exists(dirname):\n",
    "        os.makedirs(dirname)\n",
    "    #move mp4 to its folder\n",
    "    shutil.move(file, dirname)\n",
    "  \n",
    "  "
   ]
  },
  {
   "cell_type": "markdown",
   "metadata": {},
   "source": [
    "### Split youtube videos into single frames"
   ]
  },
  {
   "cell_type": "code",
   "execution_count": 12,
   "metadata": {},
   "outputs": [],
   "source": [
    "def video_to_frames():\n",
    "    path = glob.glob('*.mp4')\n",
    "    print(path[0])\n",
    "    vidcap = cv2.VideoCapture(path[0])\n",
    "    success,image = vidcap.read()\n",
    "    count = 0\n",
    "    success = True\n",
    "    while success:\n",
    "        success,image = vidcap.read()\n",
    "        if count%20 == 0 :\n",
    "            cv2.imwrite('frame%06d.jpg'%count,image)\n",
    "        count+=1"
   ]
  },
  {
   "cell_type": "markdown",
   "metadata": {},
   "source": [
    "### Organize files\n",
    "1. Go to directory of one video\n",
    "2. Split video into frames \n",
    "3. Sort files in ascending order by file names (e.g. 00000 to 00009)"
   ]
  },
  {
   "cell_type": "code",
   "execution_count": 13,
   "metadata": {},
   "outputs": [
    {
     "name": "stdout",
     "output_type": "stream",
     "text": [
      "YogaVibescom - Kids Yoga Warrior II (Virabhadrasana II) & Warrior III (Virabhadrasana III).mp4\n",
      "Warrior 2 Yoga Pose - Yoga With Adriene.mp4\n",
      "Yoga Warrior Two Sequence.mp4\n",
      "Jessamyn Stanleys 8-Minute Yoga for Self-Love  Health.mp4\n",
      "Warrior II Pose Virabhadrasana II.mp4\n"
     ]
    }
   ],
   "source": [
    "for subfolder in next(os.walk('.'))[1]:\n",
    "    #walk to subdir\n",
    "    os.chdir(subfolder)\n",
    "    #split video into frames\n",
    "    video_to_frames()\n",
    "    #walk up again\n",
    "    os.chdir('..')"
   ]
  },
  {
   "cell_type": "code",
   "execution_count": 14,
   "metadata": {},
   "outputs": [
    {
     "name": "stdout",
     "output_type": "stream",
     "text": [
      " frame000000.jpg   frame007320.jpg\r\n",
      " frame000020.jpg   frame007340.jpg\r\n",
      " frame000040.jpg   frame007360.jpg\r\n",
      " frame000060.jpg   frame007380.jpg\r\n",
      " frame000080.jpg   frame007400.jpg\r\n",
      " frame000100.jpg   frame007420.jpg\r\n",
      " frame000120.jpg   frame007440.jpg\r\n",
      " frame000140.jpg   frame007460.jpg\r\n",
      " frame000160.jpg   frame007480.jpg\r\n",
      " frame000180.jpg   frame007500.jpg\r\n",
      " frame000200.jpg   frame007520.jpg\r\n",
      " frame000220.jpg   frame007540.jpg\r\n",
      " frame000240.jpg   frame007560.jpg\r\n",
      " frame000260.jpg   frame007580.jpg\r\n",
      " frame000280.jpg   frame007600.jpg\r\n",
      " frame000300.jpg   frame007620.jpg\r\n",
      " frame000320.jpg   frame007640.jpg\r\n",
      " frame000340.jpg   frame007660.jpg\r\n",
      " frame000360.jpg   frame007680.jpg\r\n",
      " frame000380.jpg   frame007700.jpg\r\n",
      " frame000400.jpg   frame007720.jpg\r\n",
      " frame000420.jpg   frame007740.jpg\r\n",
      " frame000440.jpg   frame007760.jpg\r\n",
      " frame000460.jpg   frame007780.jpg\r\n",
      " frame000480.jpg   frame007800.jpg\r\n",
      " frame000500.jpg   frame007820.jpg\r\n",
      " frame000520.jpg   frame007840.jpg\r\n",
      " frame000540.jpg   frame007860.jpg\r\n",
      " frame000560.jpg   frame007880.jpg\r\n",
      " frame000580.jpg   frame007900.jpg\r\n",
      " frame000600.jpg   frame007920.jpg\r\n",
      " frame000620.jpg   frame007940.jpg\r\n",
      " frame000640.jpg   frame007960.jpg\r\n",
      " frame000660.jpg   frame007980.jpg\r\n",
      " frame000680.jpg   frame008000.jpg\r\n",
      " frame000700.jpg   frame008020.jpg\r\n",
      " frame000720.jpg   frame008040.jpg\r\n",
      " frame000740.jpg   frame008060.jpg\r\n",
      " frame000760.jpg   frame008080.jpg\r\n",
      " frame000780.jpg   frame008100.jpg\r\n",
      " frame000800.jpg   frame008120.jpg\r\n",
      " frame000820.jpg   frame008140.jpg\r\n",
      " frame000840.jpg   frame008160.jpg\r\n",
      " frame000860.jpg   frame008180.jpg\r\n",
      " frame000880.jpg   frame008200.jpg\r\n",
      " frame000900.jpg   frame008220.jpg\r\n",
      " frame000920.jpg   frame008240.jpg\r\n",
      " frame000940.jpg   frame008260.jpg\r\n",
      " frame000960.jpg   frame008280.jpg\r\n",
      " frame000980.jpg   frame008300.jpg\r\n",
      " frame001000.jpg   frame008320.jpg\r\n",
      " frame001020.jpg   frame008340.jpg\r\n",
      " frame001040.jpg   frame008360.jpg\r\n",
      " frame001060.jpg   frame008380.jpg\r\n",
      " frame001080.jpg   frame008400.jpg\r\n",
      " frame001100.jpg   frame008420.jpg\r\n",
      " frame001120.jpg   frame008440.jpg\r\n",
      " frame001140.jpg   frame008460.jpg\r\n",
      " frame001160.jpg   frame008480.jpg\r\n",
      " frame001180.jpg   frame008500.jpg\r\n",
      " frame001200.jpg   frame008520.jpg\r\n",
      " frame001220.jpg   frame008540.jpg\r\n",
      " frame001240.jpg   frame008560.jpg\r\n",
      " frame001260.jpg   frame008580.jpg\r\n",
      " frame001280.jpg   frame008600.jpg\r\n",
      " frame001300.jpg   frame008620.jpg\r\n",
      " frame001320.jpg   frame008640.jpg\r\n",
      " frame001340.jpg   frame008660.jpg\r\n",
      " frame001360.jpg   frame008680.jpg\r\n",
      " frame001380.jpg   frame008700.jpg\r\n",
      " frame001400.jpg   frame008720.jpg\r\n",
      " frame001420.jpg   frame008740.jpg\r\n",
      " frame001440.jpg   frame008760.jpg\r\n",
      " frame001460.jpg   frame008780.jpg\r\n",
      " frame001480.jpg   frame008800.jpg\r\n",
      " frame001500.jpg   frame008820.jpg\r\n",
      " frame001520.jpg   frame008840.jpg\r\n",
      " frame001540.jpg   frame008860.jpg\r\n",
      " frame001560.jpg   frame008880.jpg\r\n",
      " frame001580.jpg   frame008900.jpg\r\n",
      " frame001600.jpg   frame008920.jpg\r\n",
      " frame001620.jpg   frame008940.jpg\r\n",
      " frame001640.jpg   frame008960.jpg\r\n",
      " frame001660.jpg   frame008980.jpg\r\n",
      " frame001680.jpg   frame009000.jpg\r\n",
      " frame001700.jpg   frame009020.jpg\r\n",
      " frame001720.jpg   frame009040.jpg\r\n",
      " frame001740.jpg   frame009060.jpg\r\n",
      " frame001760.jpg   frame009080.jpg\r\n",
      " frame001780.jpg   frame009100.jpg\r\n",
      " frame001800.jpg   frame009120.jpg\r\n",
      " frame001820.jpg   frame009140.jpg\r\n",
      " frame001840.jpg   frame009160.jpg\r\n",
      " frame001860.jpg   frame009180.jpg\r\n",
      " frame001880.jpg   frame009200.jpg\r\n",
      " frame001900.jpg   frame009220.jpg\r\n",
      " frame001920.jpg   frame009240.jpg\r\n",
      " frame001940.jpg   frame009260.jpg\r\n",
      " frame001960.jpg   frame009280.jpg\r\n",
      " frame001980.jpg   frame009300.jpg\r\n",
      " frame002000.jpg   frame009320.jpg\r\n",
      " frame002020.jpg   frame009340.jpg\r\n",
      " frame002040.jpg   frame009360.jpg\r\n",
      " frame002060.jpg   frame009380.jpg\r\n",
      " frame002080.jpg   frame009400.jpg\r\n",
      " frame002100.jpg   frame009420.jpg\r\n",
      " frame002120.jpg   frame009440.jpg\r\n",
      " frame002140.jpg   frame009460.jpg\r\n",
      " frame002160.jpg   frame009480.jpg\r\n",
      " frame002180.jpg   frame009500.jpg\r\n",
      " frame002200.jpg   frame009520.jpg\r\n",
      " frame002220.jpg   frame009540.jpg\r\n",
      " frame002240.jpg   frame009560.jpg\r\n",
      " frame002260.jpg   frame009580.jpg\r\n",
      " frame002280.jpg   frame009600.jpg\r\n",
      " frame002300.jpg   frame009620.jpg\r\n",
      " frame002320.jpg   frame009640.jpg\r\n",
      " frame002340.jpg   frame009660.jpg\r\n",
      " frame002360.jpg   frame009680.jpg\r\n",
      " frame002380.jpg   frame009700.jpg\r\n",
      " frame002400.jpg   frame009720.jpg\r\n",
      " frame002420.jpg   frame009740.jpg\r\n",
      " frame002440.jpg   frame009760.jpg\r\n",
      " frame002460.jpg   frame009780.jpg\r\n",
      " frame002480.jpg   frame009800.jpg\r\n",
      " frame002500.jpg   frame009820.jpg\r\n",
      " frame002520.jpg   frame009840.jpg\r\n",
      " frame002540.jpg   frame009860.jpg\r\n",
      " frame002560.jpg   frame009880.jpg\r\n",
      " frame002580.jpg   frame009900.jpg\r\n",
      " frame002600.jpg   frame009920.jpg\r\n",
      " frame002620.jpg   frame009940.jpg\r\n",
      " frame002640.jpg   frame009960.jpg\r\n",
      " frame002660.jpg   frame009980.jpg\r\n",
      " frame002680.jpg   frame010000.jpg\r\n",
      " frame002700.jpg   frame010020.jpg\r\n",
      " frame002720.jpg   frame010040.jpg\r\n",
      " frame002740.jpg   frame010060.jpg\r\n",
      " frame002760.jpg   frame010080.jpg\r\n",
      " frame002780.jpg   frame010100.jpg\r\n",
      " frame002800.jpg   frame010120.jpg\r\n",
      " frame002820.jpg   frame010140.jpg\r\n",
      " frame002840.jpg   frame010160.jpg\r\n",
      " frame002860.jpg   frame010180.jpg\r\n",
      " frame002880.jpg   frame010200.jpg\r\n",
      " frame002900.jpg   frame010220.jpg\r\n",
      " frame002920.jpg   frame010240.jpg\r\n",
      " frame002940.jpg   frame010260.jpg\r\n",
      " frame002960.jpg   frame010280.jpg\r\n",
      " frame002980.jpg   frame010300.jpg\r\n",
      " frame003000.jpg   frame010320.jpg\r\n",
      " frame003020.jpg   frame010340.jpg\r\n",
      " frame003040.jpg   frame010360.jpg\r\n",
      " frame003060.jpg   frame010380.jpg\r\n",
      " frame003080.jpg   frame010400.jpg\r\n",
      " frame003100.jpg   frame010420.jpg\r\n",
      " frame003120.jpg   frame010440.jpg\r\n",
      " frame003140.jpg   frame010460.jpg\r\n",
      " frame003160.jpg   frame010480.jpg\r\n",
      " frame003180.jpg   frame010500.jpg\r\n",
      " frame003200.jpg   frame010520.jpg\r\n",
      " frame003220.jpg   frame010540.jpg\r\n",
      " frame003240.jpg   frame010560.jpg\r\n",
      " frame003260.jpg   frame010580.jpg\r\n",
      " frame003280.jpg   frame010600.jpg\r\n",
      " frame003300.jpg   frame010620.jpg\r\n",
      " frame003320.jpg   frame010640.jpg\r\n",
      " frame003340.jpg   frame010660.jpg\r\n",
      " frame003360.jpg   frame010680.jpg\r\n",
      " frame003380.jpg   frame010700.jpg\r\n",
      " frame003400.jpg   frame010720.jpg\r\n",
      " frame003420.jpg   frame010740.jpg\r\n",
      " frame003440.jpg   frame010760.jpg\r\n",
      " frame003460.jpg   frame010780.jpg\r\n",
      " frame003480.jpg   frame010800.jpg\r\n",
      " frame003500.jpg   frame010820.jpg\r\n",
      " frame003520.jpg   frame010840.jpg\r\n",
      " frame003540.jpg   frame010860.jpg\r\n",
      " frame003560.jpg   frame010880.jpg\r\n",
      " frame003580.jpg   frame010900.jpg\r\n",
      " frame003600.jpg   frame010920.jpg\r\n",
      " frame003620.jpg   frame010940.jpg\r\n",
      " frame003640.jpg   frame010960.jpg\r\n",
      " frame003660.jpg   frame010980.jpg\r\n",
      " frame003680.jpg   frame011000.jpg\r\n",
      " frame003700.jpg   frame011020.jpg\r\n",
      " frame003720.jpg   frame011040.jpg\r\n",
      " frame003740.jpg   frame011060.jpg\r\n",
      " frame003760.jpg   frame011080.jpg\r\n",
      " frame003780.jpg   frame011100.jpg\r\n",
      " frame003800.jpg   frame011120.jpg\r\n",
      " frame003820.jpg   frame011140.jpg\r\n",
      " frame003840.jpg   frame011160.jpg\r\n",
      " frame003860.jpg   frame011180.jpg\r\n",
      " frame003880.jpg   frame011200.jpg\r\n",
      " frame003900.jpg   frame011220.jpg\r\n",
      " frame003920.jpg   frame011240.jpg\r\n",
      " frame003940.jpg   frame011260.jpg\r\n",
      " frame003960.jpg   frame011280.jpg\r\n",
      " frame003980.jpg   frame011300.jpg\r\n",
      " frame004000.jpg   frame011320.jpg\r\n",
      " frame004020.jpg   frame011340.jpg\r\n",
      " frame004040.jpg   frame011360.jpg\r\n",
      " frame004060.jpg   frame011380.jpg\r\n",
      " frame004080.jpg   frame011400.jpg\r\n",
      " frame004100.jpg   frame011420.jpg\r\n",
      " frame004120.jpg   frame011440.jpg\r\n",
      " frame004140.jpg   frame011460.jpg\r\n",
      " frame004160.jpg   frame011480.jpg\r\n",
      " frame004180.jpg   frame011500.jpg\r\n",
      " frame004200.jpg   frame011520.jpg\r\n",
      " frame004220.jpg   frame011540.jpg\r\n",
      " frame004240.jpg   frame011560.jpg\r\n",
      " frame004260.jpg   frame011580.jpg\r\n",
      " frame004280.jpg   frame011600.jpg\r\n",
      " frame004300.jpg   frame011620.jpg\r\n",
      " frame004320.jpg   frame011640.jpg\r\n",
      " frame004340.jpg   frame011660.jpg\r\n",
      " frame004360.jpg   frame011680.jpg\r\n",
      " frame004380.jpg   frame011700.jpg\r\n",
      " frame004400.jpg   frame011720.jpg\r\n",
      " frame004420.jpg   frame011740.jpg\r\n",
      " frame004440.jpg   frame011760.jpg\r\n",
      " frame004460.jpg   frame011780.jpg\r\n",
      " frame004480.jpg   frame011800.jpg\r\n",
      " frame004500.jpg   frame011820.jpg\r\n",
      " frame004520.jpg   frame011840.jpg\r\n",
      " frame004540.jpg   frame011860.jpg\r\n",
      " frame004560.jpg   frame011880.jpg\r\n",
      " frame004580.jpg   frame011900.jpg\r\n",
      " frame004600.jpg   frame011920.jpg\r\n",
      " frame004620.jpg   frame011940.jpg\r\n",
      " frame004640.jpg   frame011960.jpg\r\n",
      " frame004660.jpg   frame011980.jpg\r\n",
      " frame004680.jpg   frame012000.jpg\r\n",
      " frame004700.jpg   frame012020.jpg\r\n",
      " frame004720.jpg   frame012040.jpg\r\n",
      " frame004740.jpg   frame012060.jpg\r\n",
      " frame004760.jpg   frame012080.jpg\r\n",
      " frame004780.jpg   frame012100.jpg\r\n",
      " frame004800.jpg   frame012120.jpg\r\n",
      " frame004820.jpg   frame012140.jpg\r\n",
      " frame004840.jpg   frame012160.jpg\r\n",
      " frame004860.jpg   frame012180.jpg\r\n",
      " frame004880.jpg   frame012200.jpg\r\n",
      " frame004900.jpg   frame012220.jpg\r\n",
      " frame004920.jpg   frame012240.jpg\r\n",
      " frame004940.jpg   frame012260.jpg\r\n",
      " frame004960.jpg   frame012280.jpg\r\n",
      " frame004980.jpg   frame012300.jpg\r\n",
      " frame005000.jpg   frame012320.jpg\r\n",
      " frame005020.jpg   frame012340.jpg\r\n",
      " frame005040.jpg   frame012360.jpg\r\n",
      " frame005060.jpg   frame012380.jpg\r\n",
      " frame005080.jpg   frame012400.jpg\r\n",
      " frame005100.jpg   frame012420.jpg\r\n",
      " frame005120.jpg   frame012440.jpg\r\n",
      " frame005140.jpg   frame012460.jpg\r\n",
      " frame005160.jpg   frame012480.jpg\r\n",
      " frame005180.jpg   frame012500.jpg\r\n",
      " frame005200.jpg   frame012520.jpg\r\n",
      " frame005220.jpg   frame012540.jpg\r\n",
      " frame005240.jpg   frame012560.jpg\r\n",
      " frame005260.jpg   frame012580.jpg\r\n",
      " frame005280.jpg   frame012600.jpg\r\n",
      " frame005300.jpg   frame012620.jpg\r\n",
      " frame005320.jpg   frame012640.jpg\r\n",
      " frame005340.jpg   frame012660.jpg\r\n",
      " frame005360.jpg   frame012680.jpg\r\n",
      " frame005380.jpg   frame012700.jpg\r\n",
      " frame005400.jpg   frame012720.jpg\r\n",
      " frame005420.jpg   frame012740.jpg\r\n",
      " frame005440.jpg   frame012760.jpg\r\n",
      " frame005460.jpg   frame012780.jpg\r\n",
      " frame005480.jpg   frame012800.jpg\r\n",
      " frame005500.jpg   frame012820.jpg\r\n",
      " frame005520.jpg   frame012840.jpg\r\n",
      " frame005540.jpg   frame012860.jpg\r\n",
      " frame005560.jpg   frame012880.jpg\r\n",
      " frame005580.jpg   frame012900.jpg\r\n",
      " frame005600.jpg   frame012920.jpg\r\n",
      " frame005620.jpg   frame012940.jpg\r\n",
      " frame005640.jpg   frame012960.jpg\r\n",
      " frame005660.jpg   frame012980.jpg\r\n",
      " frame005680.jpg   frame013000.jpg\r\n",
      " frame005700.jpg   frame013020.jpg\r\n",
      " frame005720.jpg   frame013040.jpg\r\n",
      " frame005740.jpg   frame013060.jpg\r\n",
      " frame005760.jpg   frame013080.jpg\r\n",
      " frame005780.jpg   frame013100.jpg\r\n",
      " frame005800.jpg   frame013120.jpg\r\n",
      " frame005820.jpg   frame013140.jpg\r\n",
      " frame005840.jpg   frame013160.jpg\r\n",
      " frame005860.jpg   frame013180.jpg\r\n",
      " frame005880.jpg   frame013200.jpg\r\n",
      " frame005900.jpg   frame013220.jpg\r\n",
      " frame005920.jpg   frame013240.jpg\r\n",
      " frame005940.jpg   frame013260.jpg\r\n",
      " frame005960.jpg   frame013280.jpg\r\n",
      " frame005980.jpg   frame013300.jpg\r\n",
      " frame006000.jpg   frame013320.jpg\r\n",
      " frame006020.jpg   frame013340.jpg\r\n",
      " frame006040.jpg   frame013360.jpg\r\n",
      " frame006060.jpg   frame013380.jpg\r\n",
      " frame006080.jpg   frame013400.jpg\r\n",
      " frame006100.jpg   frame013420.jpg\r\n",
      " frame006120.jpg   frame013440.jpg\r\n",
      " frame006140.jpg   frame013460.jpg\r\n",
      " frame006160.jpg   frame013480.jpg\r\n",
      " frame006180.jpg   frame013500.jpg\r\n",
      " frame006200.jpg   frame013520.jpg\r\n",
      " frame006220.jpg   frame013540.jpg\r\n",
      " frame006240.jpg   frame013560.jpg\r\n",
      " frame006260.jpg   frame013580.jpg\r\n",
      " frame006280.jpg   frame013600.jpg\r\n",
      " frame006300.jpg   frame013620.jpg\r\n",
      " frame006320.jpg   frame013640.jpg\r\n",
      " frame006340.jpg   frame013660.jpg\r\n",
      " frame006360.jpg   frame013680.jpg\r\n",
      " frame006380.jpg   frame013700.jpg\r\n",
      " frame006400.jpg   frame013720.jpg\r\n",
      " frame006420.jpg   frame013740.jpg\r\n",
      " frame006440.jpg   frame013760.jpg\r\n",
      " frame006460.jpg   frame013780.jpg\r\n",
      " frame006480.jpg   frame013800.jpg\r\n",
      " frame006500.jpg   frame013820.jpg\r\n",
      " frame006520.jpg   frame013840.jpg\r\n",
      " frame006540.jpg   frame013860.jpg\r\n",
      " frame006560.jpg   frame013880.jpg\r\n",
      " frame006580.jpg   frame013900.jpg\r\n",
      " frame006600.jpg   frame013920.jpg\r\n",
      " frame006620.jpg   frame013940.jpg\r\n",
      " frame006640.jpg   frame013960.jpg\r\n",
      " frame006660.jpg   frame013980.jpg\r\n",
      " frame006680.jpg   frame014000.jpg\r\n",
      " frame006700.jpg   frame014020.jpg\r\n",
      " frame006720.jpg   frame014040.jpg\r\n",
      " frame006740.jpg   frame014060.jpg\r\n",
      " frame006760.jpg   frame014080.jpg\r\n",
      " frame006780.jpg   frame014100.jpg\r\n",
      " frame006800.jpg   frame014120.jpg\r\n",
      " frame006820.jpg   frame014140.jpg\r\n",
      " frame006840.jpg   frame014160.jpg\r\n",
      " frame006860.jpg   frame014180.jpg\r\n",
      " frame006880.jpg   frame014200.jpg\r\n",
      " frame006900.jpg   frame014220.jpg\r\n",
      " frame006920.jpg   frame014240.jpg\r\n",
      " frame006940.jpg   frame014260.jpg\r\n",
      " frame006960.jpg   frame014280.jpg\r\n",
      " frame006980.jpg   frame014300.jpg\r\n",
      " frame007000.jpg   frame014320.jpg\r\n",
      " frame007020.jpg   frame014340.jpg\r\n",
      " frame007040.jpg   frame014360.jpg\r\n",
      " frame007060.jpg   frame014380.jpg\r\n",
      " frame007080.jpg   frame014400.jpg\r\n",
      " frame007100.jpg   frame014420.jpg\r\n",
      " frame007120.jpg   frame014440.jpg\r\n",
      " frame007140.jpg   frame014460.jpg\r\n",
      " frame007160.jpg   frame014480.jpg\r\n",
      " frame007180.jpg   frame014500.jpg\r\n",
      " frame007200.jpg   frame014520.jpg\r\n",
      " frame007220.jpg   frame014540.jpg\r\n",
      " frame007240.jpg   frame014560.jpg\r\n",
      " frame007260.jpg   frame014580.jpg\r\n",
      " frame007280.jpg   frame014600.jpg\r\n",
      " frame007300.jpg  'Jessamyn Stanleys 8-Minute Yoga for Self-Love  Health.mp4'\r\n"
     ]
    }
   ],
   "source": [
    "!ls JessamynStanleys8MinuteYogaforSelfLoveHealth/"
   ]
  },
  {
   "cell_type": "markdown",
   "metadata": {},
   "source": [
    "###  Labeling frames\n",
    "1. Look at the pictures and identify when pose starts & ends (frame number start to end)\n",
    "2. Use these numbers to faster label images"
   ]
  },
  {
   "cell_type": "markdown",
   "metadata": {},
   "source": [
    "#  <font color='red'> TODO add numbers for the other video here!</font>"
   ]
  },
  {
   "cell_type": "code",
   "execution_count": 15,
   "metadata": {},
   "outputs": [],
   "source": [
    "# warrior II left foot in front\n",
    "adriene_start_good_pose = 6100\n",
    "adriene_end_good_pose = 6240\n",
    "#no transition in because she changes frame view (only feet)\n",
    "\n",
    "jessy_start_good_pose = 9120\n",
    "jessy_end_good_pose = 9520\n",
    "\n",
    "\n",
    "jessy_start_trans_in = 8500\n",
    "jessy_end_trans_in = 9100\n",
    "\n",
    "#iyengar_start_good_pose = 1920\n",
    "#iyengar_end_good_pose =  2780\n",
    "\n",
    "#start =  2820\n",
    "#end = 3820"
   ]
  },
  {
   "cell_type": "markdown",
   "metadata": {},
   "source": [
    "### Organize Frames into subfolders"
   ]
  },
  {
   "cell_type": "code",
   "execution_count": 30,
   "metadata": {},
   "outputs": [],
   "source": [
    "def semi_automated_labeling(start_frame_number, end_frame_number, unsorted_dir, sort_dirname):\n",
    "    ''' Organizes frames into subfolders\n",
    "        sort_dir_name: directory to organize subcategories of pose\n",
    "        frame_intervall: count in video_to_frames, defines intervall step size\n",
    "        start_frame_number: frame number where position starts\n",
    "        end_frame_number: frame number where position ends    \n",
    "        Move pictures in between start and end frame number to labeled folder\n",
    "    '''\n",
    "    frame_intervall = 20\n",
    "    os.chdir(unsorted_dir)\n",
    "    # list all jpg files in directory\n",
    "    files = glob.glob('*.jpg')\n",
    "    # sort file list\n",
    "    files_sorted = sorted(files)\n",
    "    # split sorted intervall in good pose and bad pose \n",
    "    pose_pics = files_sorted[int(start_frame_number/frame_intervall): int(end_frame_number/frame_intervall)]\n",
    "    # make a directory\n",
    "    os.makedirs(sort_dirname)\n",
    "    split_files_to_folder(pose_pics, sort_dirname)\n",
    "    os.chdir('..')"
   ]
  },
  {
   "cell_type": "markdown",
   "metadata": {},
   "source": [
    "### Move all files of intervall of pose/no pose to folder"
   ]
  },
  {
   "cell_type": "code",
   "execution_count": null,
   "metadata": {},
   "outputs": [],
   "source": [
    "#for subfolder in next(os.walk('.'))[1]:\n",
    "#    #walk to subdir\n",
    "#    os.chdir(subfolder)\n",
    "#    #split video into frames\n",
    "#    video_to_frames()\n",
    "#    #walk up again\n",
    "#    os.chdir('..')"
   ]
  },
  {
   "cell_type": "code",
   "execution_count": 17,
   "metadata": {},
   "outputs": [
    {
     "name": "stdout",
     "output_type": "stream",
     "text": [
      "iyengar\r\n",
      "JessamynStanleys8MinuteYogaforSelfLoveHealth\r\n",
      "Warrior2YogaPoseYogaWithAdriene\r\n",
      "WarriorIIPoseVirabhadrasanaII_rechte_Seite\r\n",
      "YogaVibescomKidsYogaWarriorIIVirabhadrasanaIIWarriorIIIVirabhadrasanaIII\r\n",
      "YogaWarriorTwoSequence\r\n"
     ]
    }
   ],
   "source": [
    "!ls"
   ]
  },
  {
   "cell_type": "code",
   "execution_count": 21,
   "metadata": {},
   "outputs": [],
   "source": [
    "semi_automated_labeling(adriene_start_good_pose, adriene_end_good_pose, 'Warrior2YogaPoseYogaWithAdriene', 'w2_left')"
   ]
  },
  {
   "cell_type": "code",
   "execution_count": 29,
   "metadata": {},
   "outputs": [
    {
     "name": "stdout",
     "output_type": "stream",
     "text": [
      "iyengar\r\n",
      "JessamynStanleys8MinuteYogaforSelfLoveHealth\r\n",
      "Warrior2YogaPoseYogaWithAdriene\r\n",
      "WarriorIIPoseVirabhadrasanaII_rechte_Seite\r\n",
      "YogaVibescomKidsYogaWarriorIIVirabhadrasanaIIWarriorIIIVirabhadrasanaIII\r\n",
      "YogaWarriorTwoSequence\r\n"
     ]
    }
   ],
   "source": [
    "#\n",
    "!ls"
   ]
  },
  {
   "cell_type": "code",
   "execution_count": 31,
   "metadata": {},
   "outputs": [],
   "source": [
    "semi_automated_labeling(jessy_start_good_pose, jessy_end_good_pose, 'JessamynStanleys8MinuteYogaforSelfLoveHealth', 'w2_left')"
   ]
  },
  {
   "cell_type": "code",
   "execution_count": 32,
   "metadata": {},
   "outputs": [],
   "source": [
    "semi_automated_labeling(jessy_start_trans_in, jessy_end_trans_in, 'JessamynStanleys8MinuteYogaforSelfLoveHealth', 'transition')"
   ]
  }
 ],
 "metadata": {
  "kernelspec": {
   "display_name": "Python 3",
   "language": "python",
   "name": "python3"
  },
  "language_info": {
   "codemirror_mode": {
    "name": "ipython",
    "version": 3
   },
   "file_extension": ".py",
   "mimetype": "text/x-python",
   "name": "python",
   "nbconvert_exporter": "python",
   "pygments_lexer": "ipython3",
   "version": "3.6.5"
  }
 },
 "nbformat": 4,
 "nbformat_minor": 2
}
